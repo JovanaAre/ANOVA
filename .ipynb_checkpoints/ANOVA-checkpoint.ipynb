{
 "cells": [
  {
   "cell_type": "markdown",
   "metadata": {},
   "source": [
    "Laboratorijska vježba 3 - Poređenje više sistema : ANOVA i kontrasti\n",
    "\n",
    "Zadatak: Napisati program za korištenje ANOVA tehnike i tehnike kontrasta.\n",
    "\n",
    "Metodologija: Zadatak se radi samostalno. U proizvoljnom programskom jeziku\n",
    "napisati program za izračunavanje parametara ANOVA testa uz dozvoljavanje unosa\n",
    "proizvoljnog broja alternativa i proizvoljnog broja mjerenja svake od njih. Poželjno je\n",
    "da program ima grafički interfejs. Dodatno, implementirati tehniku kontrasta svake\n",
    "dvije poređene alternative.\n"
   ]
  },
  {
   "cell_type": "markdown",
   "metadata": {},
   "source": [
    "Rješenje:\n",
    "\n",
    "U Excel fajlu (alternative.xlsx) je data tabela mjerenja i alternativa. Nakon učitavanja podataka iz tabele vršićemo izračunavanje parametara ANOVA testa po koracima po kojima smo to radili na laboratorijskim vježbama, nakon čega ćemo sprovesti i tehniku kontrasta.\n",
    "\n",
    "Napomena: Kod sproveden u nastavku \"radi\" i za drugačiji broj mjerenja, kao i za drugačiji broj alternativa (uz uslov da broj mjerenja po alternativama bude isti, kao što smo radili na vježbama). Tj. dozvoljen je proizvoljan broj alternativa i proizvoljan broj mjerenja po alternativama (uslovno rečeno), samo je potrebno u skladu s tim ažurirati dati Excel fajl - alternative.xlsx"
   ]
  },
  {
   "cell_type": "code",
   "execution_count": 115,
   "metadata": {},
   "outputs": [],
   "source": [
    "# Uvezimo prvo potrebne biblioteke\n",
    "import numpy as np\n",
    "import math\n",
    "import pandas as pd\n",
    "import matplotlib.pyplot as plt\n",
    "import scipy.stats as stats\n",
    "from scipy.stats import t # za računanje kritične vrijednosti Studentove raspodjele\n",
    "import seaborn as sns\n",
    "from itertools import combinations # za dobijanje kombinacija parova alternativa"
   ]
  },
  {
   "cell_type": "code",
   "execution_count": 118,
   "metadata": {},
   "outputs": [
    {
     "name": "stdout",
     "output_type": "stream",
     "text": [
      "Matrica mjerenja po alternativama:\n"
     ]
    },
    {
     "data": {
      "text/html": [
       "<div>\n",
       "<style scoped>\n",
       "    .dataframe tbody tr th:only-of-type {\n",
       "        vertical-align: middle;\n",
       "    }\n",
       "\n",
       "    .dataframe tbody tr th {\n",
       "        vertical-align: top;\n",
       "    }\n",
       "\n",
       "    .dataframe thead th {\n",
       "        text-align: right;\n",
       "    }\n",
       "</style>\n",
       "<table border=\"1\" class=\"dataframe\">\n",
       "  <thead>\n",
       "    <tr style=\"text-align: right;\">\n",
       "      <th></th>\n",
       "      <th>Alt 1</th>\n",
       "      <th>Alt 2</th>\n",
       "      <th>Alt 3</th>\n",
       "      <th>Alt 4</th>\n",
       "    </tr>\n",
       "  </thead>\n",
       "  <tbody>\n",
       "    <tr>\n",
       "      <th>0</th>\n",
       "      <td>25</td>\n",
       "      <td>45</td>\n",
       "      <td>30</td>\n",
       "      <td>54</td>\n",
       "    </tr>\n",
       "    <tr>\n",
       "      <th>1</th>\n",
       "      <td>30</td>\n",
       "      <td>55</td>\n",
       "      <td>29</td>\n",
       "      <td>60</td>\n",
       "    </tr>\n",
       "    <tr>\n",
       "      <th>2</th>\n",
       "      <td>28</td>\n",
       "      <td>29</td>\n",
       "      <td>33</td>\n",
       "      <td>51</td>\n",
       "    </tr>\n",
       "    <tr>\n",
       "      <th>3</th>\n",
       "      <td>36</td>\n",
       "      <td>56</td>\n",
       "      <td>37</td>\n",
       "      <td>62</td>\n",
       "    </tr>\n",
       "    <tr>\n",
       "      <th>4</th>\n",
       "      <td>29</td>\n",
       "      <td>40</td>\n",
       "      <td>27</td>\n",
       "      <td>73</td>\n",
       "    </tr>\n",
       "  </tbody>\n",
       "</table>\n",
       "</div>"
      ],
      "text/plain": [
       "   Alt 1  Alt 2  Alt 3  Alt 4\n",
       "0     25     45     30     54\n",
       "1     30     55     29     60\n",
       "2     28     29     33     51\n",
       "3     36     56     37     62\n",
       "4     29     40     27     73"
      ]
     },
     "execution_count": 118,
     "metadata": {},
     "output_type": "execute_result"
    }
   ],
   "source": [
    "# Čitanje .xlsx fajla (u kojem su zabilježena mjerenja alternativa) i prikaz njegovog sadržaja\n",
    "df = pd.read_excel('./alternative.xlsx')\n",
    "print(\"Matrica mjerenja po alternativama:\")\n",
    "df"
   ]
  },
  {
   "cell_type": "markdown",
   "metadata": {},
   "source": [
    "Prije same tehnike ANOVA čisto informativno pogledajmo grafički prikaz raspodjele mjerenja po alternativama."
   ]
  },
  {
   "cell_type": "code",
   "execution_count": 119,
   "metadata": {},
   "outputs": [
    {
     "name": "stdout",
     "output_type": "stream",
     "text": [
      "Grafički prikaz raspodjele mjerenja po alternativama:\n"
     ]
    },
    {
     "data": {
      "image/png": "[encoded data removed]",
      "text/plain": [
       "<Figure size 432x288 with 1 Axes>"
      ]
     },
     "metadata": {
      "needs_background": "light"
     },
     "output_type": "display_data"
    }
   ],
   "source": [
    "# Preoblikujmo dataframe df kako bismo omogućili da bude pogodan za \"statsmodels\" paket\n",
    "# koji će nam omogućiti da lakše vidimo razlike alternativa\n",
    "df_melt = pd.melt(df.reset_index(), id_vars=['index'], value_vars=['Alt 1', 'Alt 2', 'Alt 3', 'Alt 4'])\n",
    "\n",
    "# Premiještanje imena kolona\n",
    "df_melt.columns = ['index', 'Alternatives', 'Value']\n",
    "\n",
    "# Generišimo boxplot kako bismo vidjeli raspodjelu podataka po alternativama \n",
    "# Korištenjem boxplot-a lakše detektujemo razlike između različitih alternativa\n",
    "print(\"Grafički prikaz raspodjele mjerenja po alternativama:\")\n",
    "ax = sns.boxplot(x='Alternatives', y='Value', data=df_melt, color='#99c2a2')\n",
    "ax = sns.swarmplot(x=\"Alternatives\", y=\"Value\", data=df_melt, color='#7d0013')\n",
    "plt.show()"
   ]
  },
  {
   "cell_type": "markdown",
   "metadata": {},
   "source": [
    "Već na osnovu prethodnog dijagrama nam je jasno da se alternative 1 i 3 najmanje razlikuju."
   ]
  },
  {
   "cell_type": "markdown",
   "metadata": {},
   "source": [
    "ANOVA TEHNIKA:"
   ]
  },
  {
   "cell_type": "code",
   "execution_count": 120,
   "metadata": {},
   "outputs": [
    {
     "name": "stdout",
     "output_type": "stream",
     "text": [
      "ANOVA tabela:\n"
     ]
    },
    {
     "data": {
      "text/html": [
       "<div>\n",
       "<style scoped>\n",
       "    .dataframe tbody tr th:only-of-type {\n",
       "        vertical-align: middle;\n",
       "    }\n",
       "\n",
       "    .dataframe tbody tr th {\n",
       "        vertical-align: top;\n",
       "    }\n",
       "\n",
       "    .dataframe thead th {\n",
       "        text-align: right;\n",
       "    }\n",
       "</style>\n",
       "<table border=\"1\" class=\"dataframe\">\n",
       "  <thead>\n",
       "    <tr style=\"text-align: right;\">\n",
       "      <th></th>\n",
       "      <th>Sum of squares</th>\n",
       "      <th>Deg freedom</th>\n",
       "      <th>Mean square</th>\n",
       "      <th>Computed F</th>\n",
       "      <th>Tabulated F</th>\n",
       "    </tr>\n",
       "    <tr>\n",
       "      <th>Variation</th>\n",
       "      <th></th>\n",
       "      <th></th>\n",
       "      <th></th>\n",
       "      <th></th>\n",
       "      <th></th>\n",
       "    </tr>\n",
       "  </thead>\n",
       "  <tbody>\n",
       "    <tr>\n",
       "      <th>Alternatives</th>\n",
       "      <td>3010.95</td>\n",
       "      <td>3</td>\n",
       "      <td>1003.65</td>\n",
       "      <td>17.4928</td>\n",
       "      <td>3.23887</td>\n",
       "    </tr>\n",
       "    <tr>\n",
       "      <th>Error</th>\n",
       "      <td>918</td>\n",
       "      <td>16</td>\n",
       "      <td>57.375</td>\n",
       "      <td></td>\n",
       "      <td></td>\n",
       "    </tr>\n",
       "    <tr>\n",
       "      <th>Total</th>\n",
       "      <td>3928.95</td>\n",
       "      <td>19</td>\n",
       "      <td></td>\n",
       "      <td></td>\n",
       "      <td></td>\n",
       "    </tr>\n",
       "  </tbody>\n",
       "</table>\n",
       "</div>"
      ],
      "text/plain": [
       "             Sum of squares Deg freedom Mean square Computed F Tabulated F\n",
       "Variation                                                                 \n",
       "Alternatives        3010.95           3     1003.65    17.4928     3.23887\n",
       "Error                   918          16      57.375                       \n",
       "Total               3928.95          19                                   "
      ]
     },
     "execution_count": 120,
     "metadata": {},
     "output_type": "execute_result"
    }
   ],
   "source": [
    "# Kreiranje ANOVA tabele i računanje parametara ANOVA tehnike\n",
    "data = [['Alternatives', '', '', '', '', ''], ['Error', '', '', '', '', ''], ['Total', '', '', '', '', '']] \n",
    "ANOVA_table = pd.DataFrame(data, columns = ['Variation', 'Sum of squares', 'Deg freedom', 'Mean square', 'Computed F', 'Tabulated F']) \n",
    "ANOVA_table.set_index('Variation', inplace = True)\n",
    "\n",
    "# Izračunaćemo prvo srednje vrijednosti kolona i to smjestiti u vektor y_col_ms\n",
    "# Vektor y_col_ms ima onoliko elemenata koliko ima kolona, tj. alternativa (k)\n",
    "y_col_ms = df.mean()\n",
    "# Broj mjerenja n je broj vrsta matrice df\n",
    "n = np.shape(df)[0]\n",
    "# Broj alternativa k je broj kolona matrice df\n",
    "k = np.shape(df)[1]\n",
    "# Nađimo sada srednju vrijednost svih elemenata matrice df od k*n elemenata - y_total_ms\n",
    "y_total_ms = np.average(df)\n",
    "\n",
    "# Izračunavanje SSA i ažuriranje ANOVA tabele\n",
    "SSA_vector = n * (y_col_ms - y_total_ms)**2 # vektor od k elemenata\n",
    "SSA = SSA_vector.sum()\n",
    "# Ažuriranje ANOVA tabele\n",
    "ANOVA_table['Sum of squares']['Alternatives'] = SSA\n",
    "#print(SSA)\n",
    "\n",
    "# Izračunavanje SSE i ažuriranje ANOVA tabele\n",
    "SSE_matrix = (df - y_col_ms)**2 # matrica od k*n elemenata\n",
    "SSE_vector = SSE_matrix.sum() # vektor od k elemenata\n",
    "SSE = SSE_vector.sum()\n",
    "# Ažuriranje ANOVA tabele\n",
    "ANOVA_table['Sum of squares']['Error'] = SSE\n",
    "\n",
    "# Izračunavanje SST i ažuriranje ANOVA tabele\n",
    "SST = SSA + SSE\n",
    "# Ažuriranje ANOVA tabele\n",
    "ANOVA_table['Sum of squares']['Total'] = SST\n",
    "\n",
    "# Izračunavanje stepeni slobode za SSA, SSE i SST i ažuriranje ANOVA tabele\n",
    "df_SSA = k - 1 # zbog k alternativa\n",
    "df_SSE = k * (n - 1) # zbog k alternativa, svaka sa n-1 stepeni slobode\n",
    "df_SST = k * n - 1 # df_SST = df_SSA + df_SSE\n",
    "# Ažuriranje ANOVA tabele\n",
    "ANOVA_table['Deg freedom']['Alternatives'] = df_SSA\n",
    "ANOVA_table['Deg freedom']['Error'] = df_SSE\n",
    "ANOVA_table['Deg freedom']['Total'] = df_SST\n",
    "\n",
    "# Izračunavanje varijanse sume kvadrata (srednje kvadratne vrijednosti) i ažuriranje ANOVA tabele\n",
    "S_a = SSA / df_SSA # varijansa alternativa\n",
    "S_e = SSE / df_SSE # varijansa greške\n",
    "# Ažuriranje ANOVA tabele\n",
    "ANOVA_table['Mean square']['Alternatives'] = S_a\n",
    "ANOVA_table['Mean square']['Error'] = S_e\n",
    "\n",
    "# Izračunavanje vrijednosti F_computed i ažuriranje ANOVA tabele\n",
    "F_computed = S_a / S_e\n",
    "# Ažuriranje ANOVA tabele\n",
    "ANOVA_table['Computed F']['Alternatives'] = F_computed\n",
    "\n",
    "# Izračunavanje vrijednosti F_tabulated i ažuriranje ANOVA tabele\n",
    "# Ako pretpostavimo 95%-tni interval povjerenja, tada je 1-alpha=0.95 => alpha = 0.05\n",
    "# F_tabulated se dobija iz tabele za vrijednosti [1-alpha;(k-1),k*(n-1)]\n",
    "# U našem slučaju te vrijednosti su [0.95;3,16]\n",
    "alpha = 0.05\n",
    "# Izračunavanje F_tabulated\n",
    "# Za ovo izračunavanje koristićemo funkciju stats.f.ppf() koja računa kritičnu vrijednost F raspodjele\n",
    "# sa k-1 = 3 i k*(n-1) = 16 stepeni slobode sa 95%-nim intervalom povjerenja\n",
    "# Ova funkcija zapravo daje ekvivalentnu vrijednost onoj iz naše skripte\n",
    "F_tabulated = stats.f.ppf(1-alpha, ANOVA_table['Deg freedom']['Alternatives'], ANOVA_table['Deg freedom']['Error'])\n",
    "ANOVA_table['Tabulated F']['Alternatives'] = F_tabulated\n",
    "\n",
    "print(\"ANOVA tabela:\")\n",
    "ANOVA_table"
   ]
  },
  {
   "cell_type": "code",
   "execution_count": 121,
   "metadata": {},
   "outputs": [
    {
     "name": "stdout",
     "output_type": "stream",
     "text": [
      "ZAKLJUČAK SPROVEDENE ANOVA TEHNIKE:\n",
      "--------------------------------------------------------------------------------------\n",
      "76.63497881113275 [%] ukupne varijacije u mjerenjima je zbog razlika između alternativa.\n",
      "--------------------------------------------------------------------------------------\n",
      "23.365021188867257 [%] ukupne varijacije u mjerenjima je zbog grešaka u mjerenjima.\n",
      "--------------------------------------------------------------------------------------\n",
      "Rezultat F-testa:\n",
      "F izračunato je: 17.492810457516338  i F tabelarno je: 3.238871517453585\n",
      "Što znači da imamo 95%-tno povjerenje da su razlike između alternativa statistički značajne.\n"
     ]
    }
   ],
   "source": [
    "# Zaključak korištenja F-testa za poređenje odnosa varijansi\n",
    "# Pogledajmo najprije odnose SSA/SST i SSE/SST\n",
    "# koji nam daju uticaje pojedinih izvora varijacija (alternative i grešaka) u ukupnoj varijaciji\n",
    "ratio_a = SSA/SST # udio varijacije zbog razlika između alternativa u ukupnoj varijaciji\n",
    "ratio_e = SSE/SST # udio varijacije zbog grešaka u mjerenjima u ukupnoj varijaciji\n",
    "print(\"ZAKLJUČAK SPROVEDENE ANOVA TEHNIKE:\")\n",
    "print(\"--------------------------------------------------------------------------------------\")\n",
    "print(ratio_a * 100,\"[%] ukupne varijacije u mjerenjima je zbog razlika između alternativa.\")\n",
    "print(\"--------------------------------------------------------------------------------------\")\n",
    "print(ratio_e * 100,\"[%] ukupne varijacije u mjerenjima je zbog grešaka u mjerenjima.\")\n",
    "print(\"--------------------------------------------------------------------------------------\")\n",
    "conclusion = \"Što znači da imamo 95%-tno povjerenje da razlike između alternativa nisu statistički značajne.\"\n",
    "if ANOVA_table['Computed F']['Alternatives'] > ANOVA_table['Tabulated F']['Alternatives']:\n",
    "    conclusion = \"Što znači da imamo 95%-tno povjerenje da su razlike između alternativa statistički značajne.\"\n",
    "print(\"Rezultat F-testa:\")\n",
    "print(\"F izračunato je:\", ANOVA_table['Computed F']['Alternatives'], \" i F tabelarno je:\", ANOVA_table['Tabulated F']['Alternatives'])\n",
    "print(conclusion)"
   ]
  },
  {
   "cell_type": "markdown",
   "metadata": {},
   "source": [
    "TEHNIKA KONTRASTA:"
   ]
  },
  {
   "cell_type": "markdown",
   "metadata": {},
   "source": [
    "Tehnika kontrasta nam daje informaciju o tome kako se pojedini parovi alternativa razlikuju, za razliku od ANOVA tehnike koja nam samo pokazuje da li postoji statistički značajna razlika između alternativa."
   ]
  },
  {
   "cell_type": "code",
   "execution_count": 122,
   "metadata": {},
   "outputs": [
    {
     "name": "stdout",
     "output_type": "stream",
     "text": [
      "Vektor efekata:\n"
     ]
    },
    {
     "data": {
      "text/plain": [
       "Alt 1   -11.85\n",
       "Alt 2     3.55\n",
       "Alt 3   -10.25\n",
       "Alt 4    18.55\n",
       "dtype: float64"
      ]
     },
     "execution_count": 122,
     "metadata": {},
     "output_type": "execute_result"
    }
   ],
   "source": [
    "# Pronađimo najprije vektor efekata alpha_effects\n",
    "# Efekat svake kolone (alternative) dobijamo kao razliku srednje vrijednosti te kolone\n",
    "# i ukupne srednje vrijednosti matrice df, y_col_ms i y_total_ms, respektivno, u našem slučaju\n",
    "alpha_effects = y_col_ms - y_total_ms\n",
    "print(\"Vektor efekata:\")\n",
    "alpha_effects"
   ]
  },
  {
   "cell_type": "code",
   "execution_count": 123,
   "metadata": {},
   "outputs": [
    {
     "name": "stdout",
     "output_type": "stream",
     "text": [
      "Sve moguće kombinacije parova alternativa su:\n"
     ]
    },
    {
     "data": {
      "text/plain": [
       "[('Alt 1', 'Alt 2'),\n",
       " ('Alt 1', 'Alt 3'),\n",
       " ('Alt 1', 'Alt 4'),\n",
       " ('Alt 2', 'Alt 3'),\n",
       " ('Alt 2', 'Alt 4'),\n",
       " ('Alt 3', 'Alt 4')]"
      ]
     },
     "execution_count": 123,
     "metadata": {},
     "output_type": "execute_result"
    }
   ],
   "source": [
    "# Pogledajmo sada sve moguće kombinacije parova alternativa čije ćemo intervale povjerenja računati\n",
    "combs = list(combinations(df, 2))\n",
    "print(\"Sve moguće kombinacije parova alternativa su:\")\n",
    "combs"
   ]
  },
  {
   "cell_type": "code",
   "execution_count": 124,
   "metadata": {
    "scrolled": true
   },
   "outputs": [
    {
     "name": "stdout",
     "output_type": "stream",
     "text": [
      "Kritična vrijednost Studentove t raspodjele je:\n"
     ]
    },
    {
     "data": {
      "text/plain": [
       "1.74588367627624"
      ]
     },
     "execution_count": 124,
     "metadata": {},
     "output_type": "execute_result"
    }
   ],
   "source": [
    "# Računanje kritične vrijednosti Studentove t raspodjele\n",
    "# Pretpostavimo 90%-tni interval povjerenja, tada je alpha=0.1 => alpha/2 = 0.05\n",
    "# pa je a = 1-alpha/2 = 1-0.05 = 0.95\n",
    "a = 0.95\n",
    "# Stepen slobode je k*(n-1)\n",
    "deg_freedom = k * (n-1)\n",
    "# Pa se kritična vrijednost Studentove t raspodjele (t_value) dobija pozivom funkcije ppf():\n",
    "t_value = t.ppf(a, deg_freedom)\n",
    "print(\"Kritična vrijednost Studentove t raspodjele je:\")\n",
    "t_value"
   ]
  },
  {
   "cell_type": "code",
   "execution_count": 125,
   "metadata": {},
   "outputs": [
    {
     "name": "stdout",
     "output_type": "stream",
     "text": [
      "Standardna devijacija Sc je:\n"
     ]
    },
    {
     "data": {
      "text/plain": [
       "2.3953079134006967"
      ]
     },
     "execution_count": 125,
     "metadata": {},
     "output_type": "execute_result"
    }
   ],
   "source": [
    "# Računanje vrijednosti standardne devijacije Sc\n",
    "# Standardna devijacija Se je kvadratni korijen varijanse S_e\n",
    "Se = math.sqrt(S_e)\n",
    "# Vrijednost ispod korijena je uvijek (2)/(k*n)\n",
    "sq_rt = (2)/(k*n)\n",
    "Sc = Se * math.sqrt(sq_rt)\n",
    "print(\"Standardna devijacija Sc je:\")\n",
    "Sc"
   ]
  },
  {
   "cell_type": "markdown",
   "metadata": {},
   "source": [
    "Računanje kontrasta i intervala povjerenja za svaku kombinaciju alternativa koje se porede:"
   ]
  },
  {
   "cell_type": "code",
   "execution_count": 126,
   "metadata": {},
   "outputs": [],
   "source": [
    "groups = [] # vektor stringova parova alternativa koje se porede\n",
    "contrast = [] # vektor vrijednosti kontrasta parova alternativa\n",
    "c1 = [] # vektor donjih vrijednosti intervala povjerenja\n",
    "c2 = [] # vektor gornjih vrijednosti intervala povjerenja\n",
    "for comb in combs:\n",
    "    # Izračunaćemo kontrast c za svaki par kao linaernu kombinaciju efekata alternativa\n",
    "    c = alpha_effects[comb[0]] - alpha_effects[comb[1]]\n",
    "    ci_lower = c - (t_value * Sc) # donja granica intervala povjerenja\n",
    "    ci_upper = c + (t_value * Sc) # gornja granica intervala povjerenja\n",
    "    # Dodavanje informacija o tekućem kontrastu na kraj odgovarajućeg vektora\n",
    "    groups.append(str(comb[0]) + ' : ' + str(comb[1]))\n",
    "    contrast.append(c)\n",
    "    c1.append(ci_lower)\n",
    "    c2.append(ci_upper)"
   ]
  },
  {
   "cell_type": "markdown",
   "metadata": {},
   "source": [
    "Tabelarni prikaz rezultata dobijenih tehnikom kontrasta"
   ]
  },
  {
   "cell_type": "code",
   "execution_count": 127,
   "metadata": {},
   "outputs": [
    {
     "data": {
      "text/html": [
       "<div>\n",
       "<style scoped>\n",
       "    .dataframe tbody tr th:only-of-type {\n",
       "        vertical-align: middle;\n",
       "    }\n",
       "\n",
       "    .dataframe tbody tr th {\n",
       "        vertical-align: top;\n",
       "    }\n",
       "\n",
       "    .dataframe thead th {\n",
       "        text-align: right;\n",
       "    }\n",
       "</style>\n",
       "<table border=\"1\" class=\"dataframe\">\n",
       "  <thead>\n",
       "    <tr style=\"text-align: right;\">\n",
       "      <th></th>\n",
       "      <th>groups</th>\n",
       "      <th>c</th>\n",
       "      <th>c1</th>\n",
       "      <th>c2</th>\n",
       "    </tr>\n",
       "  </thead>\n",
       "  <tbody>\n",
       "    <tr>\n",
       "      <th>0</th>\n",
       "      <td>Alt 1 : Alt 2</td>\n",
       "      <td>-15.4</td>\n",
       "      <td>-19.581929</td>\n",
       "      <td>-11.218071</td>\n",
       "    </tr>\n",
       "    <tr>\n",
       "      <th>1</th>\n",
       "      <td>Alt 1 : Alt 3</td>\n",
       "      <td>-1.6</td>\n",
       "      <td>-5.781929</td>\n",
       "      <td>2.581929</td>\n",
       "    </tr>\n",
       "    <tr>\n",
       "      <th>2</th>\n",
       "      <td>Alt 1 : Alt 4</td>\n",
       "      <td>-30.4</td>\n",
       "      <td>-34.581929</td>\n",
       "      <td>-26.218071</td>\n",
       "    </tr>\n",
       "    <tr>\n",
       "      <th>3</th>\n",
       "      <td>Alt 2 : Alt 3</td>\n",
       "      <td>13.8</td>\n",
       "      <td>9.618071</td>\n",
       "      <td>17.981929</td>\n",
       "    </tr>\n",
       "    <tr>\n",
       "      <th>4</th>\n",
       "      <td>Alt 2 : Alt 4</td>\n",
       "      <td>-15.0</td>\n",
       "      <td>-19.181929</td>\n",
       "      <td>-10.818071</td>\n",
       "    </tr>\n",
       "    <tr>\n",
       "      <th>5</th>\n",
       "      <td>Alt 3 : Alt 4</td>\n",
       "      <td>-28.8</td>\n",
       "      <td>-32.981929</td>\n",
       "      <td>-24.618071</td>\n",
       "    </tr>\n",
       "  </tbody>\n",
       "</table>\n",
       "</div>"
      ],
      "text/plain": [
       "          groups     c         c1         c2\n",
       "0  Alt 1 : Alt 2 -15.4 -19.581929 -11.218071\n",
       "1  Alt 1 : Alt 3  -1.6  -5.781929   2.581929\n",
       "2  Alt 1 : Alt 4 -30.4 -34.581929 -26.218071\n",
       "3  Alt 2 : Alt 3  13.8   9.618071  17.981929\n",
       "4  Alt 2 : Alt 4 -15.0 -19.181929 -10.818071\n",
       "5  Alt 3 : Alt 4 -28.8 -32.981929 -24.618071"
      ]
     },
     "execution_count": 127,
     "metadata": {},
     "output_type": "execute_result"
    }
   ],
   "source": [
    "# Prikažimo dobijene rezultate tabelarno\n",
    "result_table = pd.DataFrame({'groups': groups,\n",
    "                          'c': contrast,\n",
    "                          'c1': c1,\n",
    "                          'c2': c2})\n",
    "result_table"
   ]
  },
  {
   "cell_type": "markdown",
   "metadata": {},
   "source": [
    "Grafički prikaz intervala povjerenja"
   ]
  },
  {
   "cell_type": "code",
   "execution_count": 128,
   "metadata": {},
   "outputs": [
    {
     "data": {
      "text/plain": [
       "<matplotlib.collections.LineCollection at 0x1f5ac46fc40>"
      ]
     },
     "execution_count": 128,
     "metadata": {},
     "output_type": "execute_result"
    },
    {
     "data": {
      "image/png": "[encoded data removed]",
      "text/plain": [
       "<Figure size 432x288 with 1 Axes>"
      ]
     },
     "metadata": {
      "needs_background": "light"
     },
     "output_type": "display_data"
    }
   ],
   "source": [
    "# Prikažimo dobijene intervale povjerenja grafički radi bolje vizuelizacije\n",
    "data_dict = {}\n",
    "data_dict['groups'] = groups\n",
    "data_dict['ci_lower'] = c1\n",
    "data_dict['ci_upper'] = c2\n",
    "dataset = pd.DataFrame(data_dict)\n",
    "# Grafički prikaz intervala povjerenja svih parova alternativa koje smo poredili\n",
    "# Svaki interval povjerenja prikazan je jednom horizontalnom linijom u xy ravni\n",
    "for ci_lower,ci_upper,y in zip(dataset['ci_lower'],dataset['ci_upper'],range(len(dataset))):\n",
    "    plt.plot((ci_lower,ci_upper),(y,y),'ro-',color='red')\n",
    "plt.yticks(range(len(dataset)),list(dataset['groups']))\n",
    "# Predstavimo isprekidano osu x = 0 radi lakše detekcije intervala povjerenja koji (ne) sadrži 0\n",
    "plt.vlines( 0, -1, len(groups), linestyles='dashed' )"
   ]
  },
  {
   "cell_type": "markdown",
   "metadata": {},
   "source": [
    "ZAKLJUČAK SPROVEDENE TEHNIKE KONTRASTA:"
   ]
  },
  {
   "cell_type": "markdown",
   "metadata": {},
   "source": [
    "Ukoliko interval povjerenja sadrži 0 ne postoji statistički značajna razlika između alternativa uključenih u kontrast. A ako interval povjerenja ne sadrži 0 tada postoji statistički značajna razlika između alternativa.\n",
    "\n",
    "Na osnovu tabelarnog prikaza dobijenih rezultata, kao i grafičkog prikaza intervala povjerenja lako je zaključiti koji interval povjerenja sadrži/ne sadrži 0, a samim tim i koje alternative se statistički značajno ne razlikuju/razlikuju.\n",
    "\n",
    "Za trenutni skup alternativa i mjerenja možemo zaključiti da samo za alternative Alt 1 i Alt 3 ne postoji statistički značajna razlika, dok se svi drugi parovi alternativa statistički značajno razlikuju."
   ]
  }
 ],
 "metadata": {
  "kernelspec": {
   "display_name": "Python 3",
   "language": "python",
   "name": "python3"
  },
  "language_info": {
   "codemirror_mode": {
    "name": "ipython",
    "version": 3
   },
   "file_extension": ".py",
   "mimetype": "text/x-python",
   "name": "python",
   "nbconvert_exporter": "python",
   "pygments_lexer": "ipython3",
   "version": "3.8.5"
  }
 },
 "nbformat": 4,
 "nbformat_minor": 4
}
